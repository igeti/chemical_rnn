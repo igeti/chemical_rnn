{
 "cells": [
  {
   "cell_type": "markdown",
   "metadata": {},
   "source": [
    "# Создание sub-mehanism"
   ]
  },
  {
   "cell_type": "code",
   "execution_count": 1,
   "metadata": {},
   "outputs": [
    {
     "name": "stdout",
     "output_type": "stream",
     "text": [
      "Species: H2, H, O, O2, OH, H2O, HO2, H2O2\n"
     ]
    }
   ],
   "source": [
    "from timeit import default_timer\n",
    "import cantera as ct\n",
    "import numpy as np\n",
    "import matplotlib.pyplot as plt\n",
    "\n",
    "all_species = ct.Species.listFromFile('gri30.xml')\n",
    "species = []\n",
    "\n",
    "# Filter species\n",
    "for S in all_species:\n",
    "    comp = S.composition\n",
    "    if 'C' in comp:\n",
    "        # Exclude all hydrocarbon species\n",
    "        continue\n",
    "    if 'N' in comp:\n",
    "        # Exclude all nitrogen compounds except for N2\n",
    "        continue\n",
    "    if 'Ar' in comp:\n",
    "        # Exclude Argon\n",
    "        continue\n",
    "\n",
    "    species.append(S)\n",
    "\n",
    "species_names = {S.name for S in species}\n",
    "print('Species: {0}'.format(', '.join(S.name for S in species)))\n",
    "\n"
   ]
  },
  {
   "cell_type": "code",
   "execution_count": 2,
   "metadata": {},
   "outputs": [
    {
     "name": "stdout",
     "output_type": "stream",
     "text": [
      "\n",
      "Reactions:\n",
      "H2 + O <=> H + OH\n",
      "HO2 + O <=> O2 + OH\n",
      "H2O2 + O <=> HO2 + OH\n",
      "H + 2 O2 <=> HO2 + O2\n",
      "H + H2O + O2 <=> H2O + HO2\n",
      "H + O2 <=> O + OH\n",
      "2 H + H2 <=> 2 H2\n",
      "2 H + H2O <=> H2 + H2O\n",
      "H + HO2 <=> H2O + O\n",
      "H + HO2 <=> H2 + O2\n",
      "H + HO2 <=> 2 OH\n",
      "H + H2O2 <=> H2 + HO2\n",
      "H + H2O2 <=> H2O + OH\n",
      "H2 + OH <=> H + H2O\n",
      "2 OH <=> H2O + O\n",
      "HO2 + OH <=> H2O + O2\n",
      "H2O2 + OH <=> H2O + HO2\n",
      "H2O2 + OH <=> H2O + HO2\n",
      "2 HO2 <=> H2O2 + O2\n",
      "2 HO2 <=> H2O2 + O2\n",
      "HO2 + OH <=> H2O + O2\n",
      "\n",
      "\n"
     ]
    }
   ],
   "source": [
    "# Filter reactions, keeping only those that only involve the selected species\n",
    "all_reactions = ct.Reaction.listFromFile('gri30.xml')\n",
    "reactions = []\n",
    "reactions_name = []\n",
    "\n",
    "print('\\nReactions:')\n",
    "for R in all_reactions:\n",
    "    if not all(reactant in species_names for reactant in R.reactants):\n",
    "        continue\n",
    "\n",
    "    if not all(product in species_names for product in R.products):\n",
    "        continue\n",
    "    \n",
    "    if 'M' in R.reactant_string:\n",
    "        continue\n",
    "    \n",
    "#     if R.equation in reactions_name:\n",
    "#         continue\n",
    "    reactions_name.append(R.equation)\n",
    "    reactions.append(R)\n",
    "    print(R.equation)\n",
    "print('\\n')\n",
    "\n"
   ]
  },
  {
   "cell_type": "code",
   "execution_count": 3,
   "metadata": {},
   "outputs": [
    {
     "data": {
      "text/plain": [
       "21"
      ]
     },
     "execution_count": 3,
     "metadata": {},
     "output_type": "execute_result"
    }
   ],
   "source": [
    "len(reactions)"
   ]
  },
  {
   "cell_type": "markdown",
   "metadata": {},
   "source": [
    "# Create train set"
   ]
  },
  {
   "cell_type": "code",
   "execution_count": 4,
   "metadata": {},
   "outputs": [],
   "source": [
    "T0 = 1300\n",
    "P0 = 1.5*ct.one_atm\n",
    "C = 'H2:2,O2:1'"
   ]
  },
  {
   "cell_type": "code",
   "execution_count": 5,
   "metadata": {},
   "outputs": [],
   "source": [
    "dict_of_state = {}"
   ]
  },
  {
   "cell_type": "code",
   "execution_count": 6,
   "metadata": {},
   "outputs": [
    {
     "name": "stdout",
     "output_type": "stream",
     "text": [
      "1300\n",
      "1305\n",
      "1310\n",
      "1315\n",
      "1320\n",
      "1325\n",
      "1330\n",
      "1335\n",
      "1340\n",
      "1345\n",
      "1350\n",
      "1355\n",
      "1360\n",
      "1365\n",
      "1370\n",
      "1375\n",
      "1380\n",
      "1385\n",
      "1390\n",
      "1395\n",
      "1400\n",
      "1405\n",
      "1410\n",
      "1415\n",
      "1420\n",
      "1425\n",
      "1430\n",
      "1435\n",
      "1440\n",
      "1445\n",
      "1450\n",
      "1455\n",
      "1460\n",
      "1465\n",
      "1470\n",
      "1475\n",
      "1480\n",
      "1485\n",
      "1490\n",
      "1495\n"
     ]
    }
   ],
   "source": [
    "for T in np.arange(T0,T0+200,5):\n",
    "    gas_sub = ct.Solution(thermo='IdealGas', kinetics='GasKinetics',\n",
    "                       species=species, reactions=reactions)\n",
    "\n",
    "    gas_sub.TPX = T, P0, C\n",
    "    r = ct.IdealGasConstPressureReactor(gas_sub, energy ='off')\n",
    "\n",
    "    sim = ct.ReactorNet([r])\n",
    "    time = 0.0\n",
    "    states = ct.SolutionArray(gas_sub, extra=['t'])\n",
    "\n",
    "    print(T)\n",
    "    for n in range(200):\n",
    "        \n",
    "        time += 1.e-7\n",
    "        sim.advance(time)\n",
    "        states.append(r.thermo.state, t=time*1e6)\n",
    "    all_array = np.hstack([states.X, states.T.reshape(-1,1), states.P.reshape(-1,1),states.t.reshape(-1,1)])\n",
    "    dict_of_state[T] = all_array\n",
    "\n"
   ]
  },
  {
   "cell_type": "code",
   "execution_count": 7,
   "metadata": {},
   "outputs": [],
   "source": [
    "import pickle"
   ]
  },
  {
   "cell_type": "code",
   "execution_count": 8,
   "metadata": {},
   "outputs": [],
   "source": [
    "with open('states.pkl', 'wb') as f:\n",
    "     pickle.dump(dict_of_state, f)"
   ]
  },
  {
   "cell_type": "code",
   "execution_count": 9,
   "metadata": {},
   "outputs": [
    {
     "data": {
      "image/png": "[encoded data removed]",
      "text/plain": [
       "<matplotlib.figure.Figure at 0x7f2d25d344a8>"
      ]
     },
     "metadata": {},
     "output_type": "display_data"
    }
   ],
   "source": [
    "plt.figure(figsize = (10,10))\n",
    "plt.plot(dict_of_state[1395][:,-1], dict_of_state[1300][:,:8])\n",
    "plt.xlabel('Time (micros)')\n",
    "plt.ylabel('Temperature (K)')\n",
    "plt.legend(states.species_names)\n",
    "plt.show()"
   ]
  },
  {
   "cell_type": "markdown",
   "metadata": {},
   "source": [
    "# Create Model"
   ]
  },
  {
   "cell_type": "code",
   "execution_count": 10,
   "metadata": {},
   "outputs": [
    {
     "name": "stderr",
     "output_type": "stream",
     "text": [
      "/usr/local/lib/python3.5/dist-packages/h5py/__init__.py:36: FutureWarning: Conversion of the second argument of issubdtype from `float` to `np.floating` is deprecated. In future, it will be treated as `np.float64 == np.dtype(float).type`.\n",
      "  from ._conv import register_converters as _register_converters\n",
      "Using TensorFlow backend.\n"
     ]
    }
   ],
   "source": [
    "import os\n",
    "os.environ[\"CUDA_VISIBLE_DEVICES\"] = '2'\n",
    "import sys\n",
    "import random\n",
    "\n",
    "import pandas as pd\n",
    "import numpy as np\n",
    "import matplotlib.pyplot as plt\n",
    "plt.style.use('seaborn-white')\n",
    "import seaborn as sns\n",
    "sns.set_style(\"white\")\n",
    "\n",
    "%matplotlib inline\n",
    "\n",
    "# import cv2\n",
    "from sklearn.model_selection import train_test_split\n",
    "\n",
    "from tqdm import tqdm_notebook #, tnrange\n",
    "#from itertools import chain\n",
    "from skimage.io import imread, imshow #, concatenate_images\n",
    "from skimage.transform import resize\n",
    "from skimage.morphology import label\n",
    "\n",
    "from keras.models import Model, load_model, save_model\n",
    "from keras.layers import Input,Dropout,BatchNormalization,Activation,Add, Dense\n",
    "from keras.layers.core import Lambda\n",
    "from keras.layers.convolutional import Conv2D, Conv2DTranspose\n",
    "from keras.layers.pooling import MaxPooling2D\n",
    "from keras.layers.merge import concatenate\n",
    "from keras.callbacks import EarlyStopping, ModelCheckpoint, ReduceLROnPlateau\n",
    "from keras import backend as K\n",
    "from keras import optimizers\n",
    "\n",
    "import tensorflow as tf\n",
    "\n",
    "from keras.preprocessing.image import array_to_img, img_to_array, load_img#,save_img\n"
   ]
  },
  {
   "cell_type": "code",
   "execution_count": 12,
   "metadata": {},
   "outputs": [],
   "source": [
    "# Build model\n",
    "def build_model(input_layer, hidden_neurons):\n",
    "    # 101 -> 50\n",
    "    x = Dense(hidden_neurons, activation = 'sigmoid')(input_layer)\n",
    "    x = Dense(hidden_neurons, activation = 'sigmoid')(x)\n",
    "    x = Dense(hidden_neurons, activation = 'sigmoid')(x)\n",
    "    \n",
    "    output_layer = Dense(1, activation = 'sigmoid')(x)\n",
    "    \n",
    "    return output_layer"
   ]
  },
  {
   "cell_type": "code",
   "execution_count": null,
   "metadata": {},
   "outputs": [],
   "source": []
  },
  {
   "cell_type": "code",
   "execution_count": 13,
   "metadata": {},
   "outputs": [],
   "source": [
    "def loss_function(y_true, y_pred):\n",
    "    mae = K.abs(y_pred - y_true)\n",
    "    log =  K.log(K.clip(y_pred, K.epsilon(), None)/ K.clip(y_true, K.epsilon(), None))\n",
    "    return K.mean(K.square(mae+log))"
   ]
  },
  {
   "cell_type": "code",
   "execution_count": 14,
   "metadata": {},
   "outputs": [],
   "source": [
    "models = []\n",
    "input_layer = Input((10,))\n",
    "for i in range(8):\n",
    "    output_layer = build_model(input_layer, 16)\n",
    "\n",
    "    model1 = Model(input_layer, output_layer)\n",
    "\n",
    "    c = optimizers.adam(lr = 0.01)\n",
    "    #model1.compile(loss=loss_function, optimizer=c, metrics=[loss_function])\n",
    "    models.append(model1)"
   ]
  },
  {
   "cell_type": "code",
   "execution_count": 15,
   "metadata": {},
   "outputs": [],
   "source": [
    "all_output = concatenate([model.output for model in models])"
   ]
  },
  {
   "cell_type": "code",
   "execution_count": 16,
   "metadata": {},
   "outputs": [],
   "source": [
    "big_model = Model(input_layer, all_output)"
   ]
  },
  {
   "cell_type": "code",
   "execution_count": 17,
   "metadata": {},
   "outputs": [],
   "source": [
    "big_model.compile(loss=loss_function, optimizer=c, metrics=[loss_function])"
   ]
  },
  {
   "cell_type": "markdown",
   "metadata": {},
   "source": [
    "# Load train"
   ]
  },
  {
   "cell_type": "code",
   "execution_count": 18,
   "metadata": {},
   "outputs": [],
   "source": [
    "train = pickle.load(open('states.pkl', 'rb'))"
   ]
  },
  {
   "cell_type": "code",
   "execution_count": 19,
   "metadata": {},
   "outputs": [],
   "source": [
    "matrix = np.vstack([train[keys][:,:10] for keys in train.keys()])"
   ]
  },
  {
   "cell_type": "code",
   "execution_count": 20,
   "metadata": {},
   "outputs": [
    {
     "data": {
      "text/plain": [
       "(8000, 10)"
      ]
     },
     "execution_count": 20,
     "metadata": {},
     "output_type": "execute_result"
    }
   ],
   "source": [
    "matrix.shape"
   ]
  },
  {
   "cell_type": "code",
   "execution_count": 21,
   "metadata": {},
   "outputs": [],
   "source": [
    "Eps = 1e-16"
   ]
  },
  {
   "cell_type": "code",
   "execution_count": 22,
   "metadata": {},
   "outputs": [],
   "source": [
    "train_matrix = matrix+Eps"
   ]
  },
  {
   "cell_type": "code",
   "execution_count": 23,
   "metadata": {},
   "outputs": [],
   "source": [
    "from sklearn.preprocessing import StandardScaler\n",
    "scaler = StandardScaler()\n"
   ]
  },
  {
   "cell_type": "code",
   "execution_count": 24,
   "metadata": {},
   "outputs": [],
   "source": [
    "train_matrix = scaler.fit_transform(train_matrix)"
   ]
  },
  {
   "cell_type": "code",
   "execution_count": 25,
   "metadata": {},
   "outputs": [],
   "source": [
    "test_matrix = np.roll(matrix, 1, axis=0)"
   ]
  },
  {
   "cell_type": "code",
   "execution_count": 30,
   "metadata": {},
   "outputs": [
    {
     "data": {
      "text/plain": [
       "array([[ 1.70206279, -0.87256894, -0.83218709, ..., -2.0755985 ,\n",
       "        -0.90961097,  0.        ],\n",
       "       [ 1.70206264, -0.87256836, -0.8321867 , ..., -2.07520325,\n",
       "        -0.90961097,  0.        ],\n",
       "       [ 1.70206245, -0.87256765, -0.83218616, ..., -2.07454307,\n",
       "        -0.90961097,  0.        ],\n",
       "       ...,\n",
       "       [-0.7699469 , -0.61666803, -0.59127088, ...,  0.04753315,\n",
       "         1.25612944,  1.01137881],\n",
       "       [-0.77069358, -0.61893889, -0.59353714, ...,  0.04731807,\n",
       "         1.25612944,  1.01137881],\n",
       "       [-0.77143256, -0.62117488, -0.59576756, ...,  0.04709627,\n",
       "         1.25612944,  1.01137881]])"
      ]
     },
     "execution_count": 30,
     "metadata": {},
     "output_type": "execute_result"
    }
   ],
   "source": [
    "train_matrix"
   ]
  },
  {
   "cell_type": "code",
   "execution_count": 31,
   "metadata": {},
   "outputs": [
    {
     "data": {
      "text/plain": [
       "array([[4.60336188e-02, 1.32562666e-02, 2.20599568e-03, ...,\n",
       "        4.17314296e-07, 1.47000000e+03, 1.51987500e+05],\n",
       "       [6.66666638e-01, 2.65398006e-08, 1.60592761e-09, ...,\n",
       "        2.58546446e-11, 1.34500000e+03, 1.51987500e+05],\n",
       "       [6.66666601e-01, 5.68112928e-08, 5.21451743e-09, ...,\n",
       "        1.03553623e-10, 1.34500000e+03, 1.51987500e+05],\n",
       "       ...,\n",
       "       [4.65957049e-02, 1.36155396e-02, 2.26944159e-03, ...,\n",
       "        4.17441097e-07, 1.47000000e+03, 1.51987500e+05],\n",
       "       [4.64063889e-02, 1.34939165e-02, 2.24795350e-03, ...,\n",
       "        4.17400179e-07, 1.47000000e+03, 1.51987500e+05],\n",
       "       [4.62190372e-02, 1.33741722e-02, 2.22680737e-03, ...,\n",
       "        4.17357899e-07, 1.47000000e+03, 1.51987500e+05]])"
      ]
     },
     "execution_count": 31,
     "metadata": {},
     "output_type": "execute_result"
    }
   ],
   "source": [
    "test_matrix"
   ]
  },
  {
   "cell_type": "code",
   "execution_count": 32,
   "metadata": {},
   "outputs": [],
   "source": [
    "import numpy as np\n",
    "from sklearn.model_selection import train_test_split\n",
    "\n",
    "X_train, X_test, y_train, y_test = train_test_split(train_matrix[:-1], test_matrix[1:,:8], test_size=0.1, random_state=42)"
   ]
  },
  {
   "cell_type": "code",
   "execution_count": 33,
   "metadata": {},
   "outputs": [],
   "source": [
    "from keras.callbacks import *\n",
    "\n",
    "class CyclicLR(Callback):\n",
    "    \"\"\"This callback implements a cyclical learning rate policy (CLR).\n",
    "    The method cycles the learning rate between two boundaries with\n",
    "    some constant frequency, as detailed in this paper (https://arxiv.org/abs/1506.01186).\n",
    "    The amplitude of the cycle can be scaled on a per-iteration or \n",
    "    per-cycle basis.\n",
    "    This class has three built-in policies, as put forth in the paper.\n",
    "    \"triangular\":\n",
    "        A basic triangular cycle w/ no amplitude scaling.\n",
    "    \"triangular2\":\n",
    "        A basic triangular cycle that scales initial amplitude by half each cycle.\n",
    "    \"exp_range\":\n",
    "        A cycle that scales initial amplitude by gamma**(cycle iterations) at each \n",
    "        cycle iteration.\n",
    "    For more detail, please see paper.\n",
    "    \n",
    "    # Example\n",
    "        ```python\n",
    "            clr = CyclicLR(base_lr=0.001, max_lr=0.006,\n",
    "                                step_size=2000., mode='triangular')\n",
    "            model.fit(X_train, Y_train, callbacks=[clr])\n",
    "        ```\n",
    "    \n",
    "    Class also supports custom scaling functions:\n",
    "        ```python\n",
    "            clr_fn = lambda x: 0.5*(1+np.sin(x*np.pi/2.))\n",
    "            clr = CyclicLR(base_lr=0.001, max_lr=0.006,\n",
    "                                step_size=2000., scale_fn=clr_fn,\n",
    "                                scale_mode='cycle')\n",
    "            model.fit(X_train, Y_train, callbacks=[clr])\n",
    "        ```    \n",
    "    # Arguments\n",
    "        base_lr: initial learning rate which is the\n",
    "            lower boundary in the cycle.\n",
    "        max_lr: upper boundary in the cycle. Functionally,\n",
    "            it defines the cycle amplitude (max_lr - base_lr).\n",
    "            The lr at any cycle is the sum of base_lr\n",
    "            and some scaling of the amplitude; therefore \n",
    "            max_lr may not actually be reached depending on\n",
    "            scaling function.\n",
    "        step_size: number of training iterations per\n",
    "            half cycle. Authors suggest setting step_size\n",
    "            2-8 x training iterations in epoch.\n",
    "        mode: one of {triangular, triangular2, exp_range}.\n",
    "            Default 'triangular'.\n",
    "            Values correspond to policies detailed above.\n",
    "            If scale_fn is not None, this argument is ignored.\n",
    "        gamma: constant in 'exp_range' scaling function:\n",
    "            gamma**(cycle iterations)\n",
    "        scale_fn: Custom scaling policy defined by a single\n",
    "            argument lambda function, where \n",
    "            0 <= scale_fn(x) <= 1 for all x >= 0.\n",
    "            mode paramater is ignored \n",
    "        scale_mode: {'cycle', 'iterations'}.\n",
    "            Defines whether scale_fn is evaluated on \n",
    "            cycle number or cycle iterations (training\n",
    "            iterations since start of cycle). Default is 'cycle'.\n",
    "    \"\"\"\n",
    "\n",
    "    def __init__(self, base_lr=0.001, max_lr=0.006, step_size=2000., mode='triangular',\n",
    "                 gamma=1., scale_fn=None, scale_mode='cycle'):\n",
    "        super(CyclicLR, self).__init__()\n",
    "\n",
    "        self.base_lr = base_lr\n",
    "        self.max_lr = max_lr\n",
    "        self.step_size = step_size\n",
    "        self.mode = mode\n",
    "        self.gamma = gamma\n",
    "        if scale_fn == None:\n",
    "            if self.mode == 'triangular':\n",
    "                self.scale_fn = lambda x: 1.\n",
    "                self.scale_mode = 'cycle'\n",
    "            elif self.mode == 'triangular2':\n",
    "                self.scale_fn = lambda x: 1/(2.**(x-1))\n",
    "                self.scale_mode = 'cycle'\n",
    "            elif self.mode == 'exp_range':\n",
    "                self.scale_fn = lambda x: gamma**(x)\n",
    "                self.scale_mode = 'iterations'\n",
    "        else:\n",
    "            self.scale_fn = scale_fn\n",
    "            self.scale_mode = scale_mode\n",
    "        self.clr_iterations = 0.\n",
    "        self.trn_iterations = 0.\n",
    "        self.history = {}\n",
    "\n",
    "        self._reset()\n",
    "\n",
    "    def _reset(self, new_base_lr=None, new_max_lr=None,\n",
    "               new_step_size=None):\n",
    "        \"\"\"Resets cycle iterations.\n",
    "        Optional boundary/step size adjustment.\n",
    "        \"\"\"\n",
    "        if new_base_lr != None:\n",
    "            self.base_lr = new_base_lr\n",
    "        if new_max_lr != None:\n",
    "            self.max_lr = new_max_lr\n",
    "        if new_step_size != None:\n",
    "            self.step_size = new_step_size\n",
    "        self.clr_iterations = 0.\n",
    "        \n",
    "    def clr(self):\n",
    "        cycle = np.floor(1+self.clr_iterations/(2*self.step_size))\n",
    "        x = np.abs(self.clr_iterations/self.step_size - 2*cycle + 1)\n",
    "        if self.scale_mode == 'cycle':\n",
    "            return self.base_lr + (self.max_lr-self.base_lr)*np.maximum(0, (1-x))*self.scale_fn(cycle)\n",
    "        else:\n",
    "            return self.base_lr + (self.max_lr-self.base_lr)*np.maximum(0, (1-x))*self.scale_fn(self.clr_iterations)\n",
    "        \n",
    "    def on_train_begin(self, logs={}):\n",
    "        logs = logs or {}\n",
    "\n",
    "        if self.clr_iterations == 0:\n",
    "            K.set_value(self.model.optimizer.lr, self.base_lr)\n",
    "        else:\n",
    "            K.set_value(self.model.optimizer.lr, self.clr())        \n",
    "            \n",
    "    def on_batch_end(self, epoch, logs=None):\n",
    "        \n",
    "        logs = logs or {}\n",
    "        self.trn_iterations += 1\n",
    "        self.clr_iterations += 1\n",
    "\n",
    "        self.history.setdefault('lr', []).append(K.get_value(self.model.optimizer.lr))\n",
    "        self.history.setdefault('iterations', []).append(self.trn_iterations)\n",
    "\n",
    "        for k, v in logs.items():\n",
    "            self.history.setdefault(k, []).append(v)\n",
    "        \n",
    "        K.set_value(self.model.optimizer.lr, self.clr())"
   ]
  },
  {
   "cell_type": "code",
   "execution_count": null,
   "metadata": {},
   "outputs": [],
   "source": [
    "#early_stopping = EarlyStopping(monitor='my_iou_metric', mode = 'max',patience=10, verbose=1)\n",
    "model_path = os.path.join(\"model\", '123' + '-epoch-{epoch:03d}' + '-val_loss_function-{val_loss_function:.5f}' + '.hdf5')\n",
    "model_checkpoint = ModelCheckpoint(model_path,monitor='val_loss_function' , save_best_only=True, verbose=0)\n",
    "reduce_lr = ReduceLROnPlateau(monitor='val_my_iou_metric', mode = 'max',factor=0.5, patience=10, min_lr=0.0001, verbose=1)\n",
    "clr = CyclicLR(base_lr=0.001, max_lr=0.01, step_size=1000) # 1/2 cycle per nb_epoch = steps_per_epoch * nb_epoch\n",
    "\n",
    "\n",
    "\n",
    "history = big_model.fit(x = X_train, y = y_train,\n",
    "                    callbacks=[ model_checkpoint,clr], \n",
    "                    verbose=0,\n",
    "                    validation_data= (X_test,y_test),\n",
    "                    batch_size = 512,\n",
    "                    epochs = 100000, initial_epoch = 0)"
   ]
  },
  {
   "cell_type": "code",
   "execution_count": 35,
   "metadata": {},
   "outputs": [
    {
     "data": {
      "text/plain": [
       "1"
      ]
     },
     "execution_count": 35,
     "metadata": {},
     "output_type": "execute_result"
    }
   ],
   "source": [
    "1"
   ]
  },
  {
   "cell_type": "code",
   "execution_count": 36,
   "metadata": {},
   "outputs": [],
   "source": [
    "from keras.models import load_model\n",
    "\n",
    "model_folder = 'model/123-epoch-11009-val_loss_function-0.00019.hdf5'"
   ]
  },
  {
   "cell_type": "code",
   "execution_count": 37,
   "metadata": {},
   "outputs": [],
   "source": [
    "model1 = load_model(model_folder, custom_objects={'loss_function': loss_function})"
   ]
  },
  {
   "cell_type": "code",
   "execution_count": 38,
   "metadata": {},
   "outputs": [
    {
     "name": "stdout",
     "output_type": "stream",
     "text": [
      "800/800 [==============================] - 0s 182us/step\n"
     ]
    },
    {
     "data": {
      "text/plain": [
       "[0.0001878851358560496, 0.0001878851358560496]"
      ]
     },
     "execution_count": 38,
     "metadata": {},
     "output_type": "execute_result"
    }
   ],
   "source": [
    "model1.evaluate(X_test, y_test)"
   ]
  },
  {
   "cell_type": "markdown",
   "metadata": {},
   "source": [
    "# Evaluate"
   ]
  },
  {
   "cell_type": "markdown",
   "metadata": {},
   "source": [
    "# true"
   ]
  },
  {
   "cell_type": "code",
   "execution_count": 39,
   "metadata": {},
   "outputs": [],
   "source": [
    "gas_sub = ct.Solution(thermo='IdealGas', kinetics='GasKinetics',\n",
    "                       species=species, reactions=reactions)\n",
    "\n",
    "gas_sub.TPX = 1372, P0, C\n",
    "r = ct.IdealGasConstPressureReactor(gas_sub, energy ='off')\n",
    "\n",
    "sim = ct.ReactorNet([r])\n",
    "time = 0.0\n",
    "states = ct.SolutionArray(gas_sub, extra=['t'])\n",
    "\n",
    "for n in range(1000):\n",
    "\n",
    "    time += 1.e-7\n",
    "    sim.advance(time)\n",
    "    states.append(r.thermo.state, t=time*1e6)\n",
    "\n"
   ]
  },
  {
   "cell_type": "code",
   "execution_count": 40,
   "metadata": {},
   "outputs": [
    {
     "data": {
      "image/png": "[encoded data removed]",
      "text/plain": [
       "<matplotlib.figure.Figure at 0x7f2ccc607470>"
      ]
     },
     "metadata": {},
     "output_type": "display_data"
    }
   ],
   "source": [
    "plt.figure(figsize = (10,10))\n",
    "plt.plot(states.t[:200], states.X[:200])\n",
    "plt.xlabel('Time (micros)')\n",
    "plt.ylabel('Temperature (K)')\n",
    "plt.legend(states.species_names)\n",
    "plt.show()"
   ]
  },
  {
   "cell_type": "markdown",
   "metadata": {},
   "source": [
    "# predict"
   ]
  },
  {
   "cell_type": "code",
   "execution_count": 41,
   "metadata": {},
   "outputs": [],
   "source": [
    "gas_sub = ct.Solution(thermo='IdealGas', kinetics='GasKinetics',\n",
    "                       species=species, reactions=reactions)\n",
    "\n",
    "gas_sub.TPX = 1490, P0, C\n",
    "r = ct.IdealGasConstPressureReactor(gas_sub, energy ='off')\n",
    "\n",
    "sim = ct.ReactorNet([r])\n",
    "time = 0.0\n",
    "#states = ct.SolutionArray(gas_sub, extra=['t'])\n"
   ]
  },
  {
   "cell_type": "code",
   "execution_count": 42,
   "metadata": {},
   "outputs": [
    {
     "data": {
      "text/plain": [
       "array([0.66666667, 0.        , 0.        , 0.33333333, 0.        ,\n",
       "       0.        , 0.        , 0.        ])"
      ]
     },
     "execution_count": 42,
     "metadata": {},
     "output_type": "execute_result"
    }
   ],
   "source": [
    "r.thermo.X"
   ]
  },
  {
   "cell_type": "code",
   "execution_count": 43,
   "metadata": {},
   "outputs": [],
   "source": [
    "a = np.vstack([r.thermo.X.reshape(-1,1), np.array(r.thermo.T).reshape(-1,1), np.array(r.thermo.P).reshape(-1,1)]).T"
   ]
  },
  {
   "cell_type": "code",
   "execution_count": 44,
   "metadata": {},
   "outputs": [
    {
     "data": {
      "text/plain": [
       "array([[6.66666667e-01, 0.00000000e+00, 0.00000000e+00, 3.33333333e-01,\n",
       "        0.00000000e+00, 0.00000000e+00, 0.00000000e+00, 0.00000000e+00,\n",
       "        1.49000000e+03, 1.51987500e+05]])"
      ]
     },
     "execution_count": 44,
     "metadata": {},
     "output_type": "execute_result"
    }
   ],
   "source": [
    "a"
   ]
  },
  {
   "cell_type": "code",
   "execution_count": 45,
   "metadata": {},
   "outputs": [
    {
     "data": {
      "text/plain": [
       "(1, 1)"
      ]
     },
     "execution_count": 45,
     "metadata": {},
     "output_type": "execute_result"
    }
   ],
   "source": [
    "np.array(r.thermo.T).reshape(-1,1).shape"
   ]
  },
  {
   "cell_type": "code",
   "execution_count": null,
   "metadata": {},
   "outputs": [],
   "source": [
    "norm_input = scaler.transform(a)"
   ]
  },
  {
   "cell_type": "code",
   "execution_count": null,
   "metadata": {},
   "outputs": [],
   "source": [
    "norm_input"
   ]
  },
  {
   "cell_type": "code",
   "execution_count": 222,
   "metadata": {},
   "outputs": [],
   "source": [
    "b = model1.predict(norm_input)"
   ]
  },
  {
   "cell_type": "code",
   "execution_count": 223,
   "metadata": {},
   "outputs": [
    {
     "data": {
      "text/plain": [
       "array([[6.6614956e-01, 1.2205307e-07, 4.7630490e-08, 3.3331588e-01,\n",
       "        1.9193468e-08, 2.9579917e-08, 2.0166736e-07, 2.6184470e-08]],\n",
       "      dtype=float32)"
      ]
     },
     "execution_count": 223,
     "metadata": {},
     "output_type": "execute_result"
    }
   ],
   "source": [
    "b"
   ]
  },
  {
   "cell_type": "code",
   "execution_count": 224,
   "metadata": {},
   "outputs": [
    {
     "name": "stdout",
     "output_type": "stream",
     "text": [
      "CPU times: user 268 ms, sys: 24 ms, total: 292 ms\n",
      "Wall time: 173 ms\n"
     ]
    }
   ],
   "source": [
    "%%time\n",
    "all_pred = [a]\n",
    "for i in range(200):\n",
    "    norm_input = scaler.transform(a)\n",
    "    \n",
    "    b = model1.predict(norm_input)\n",
    "    a = np.hstack([b, np.array(r.thermo.T).reshape(-1,1), np.array(r.thermo.P).reshape(-1,1)])\n",
    "    all_pred.append(a)\n",
    "    "
   ]
  },
  {
   "cell_type": "code",
   "execution_count": 225,
   "metadata": {},
   "outputs": [],
   "source": [
    "all_pred =np.vstack(all_pred)"
   ]
  },
  {
   "cell_type": "code",
   "execution_count": 226,
   "metadata": {},
   "outputs": [
    {
     "data": {
      "text/plain": [
       "array([[6.66666667e-01, 0.00000000e+00, 0.00000000e+00, ...,\n",
       "        0.00000000e+00, 1.49000000e+03, 1.51987500e+05],\n",
       "       [6.66149557e-01, 1.22053066e-07, 4.76304898e-08, ...,\n",
       "        2.61844697e-08, 1.49000000e+03, 1.51987500e+05],\n",
       "       [6.66163623e-01, 4.56079943e-06, 8.37032246e-07, ...,\n",
       "        3.72876805e-08, 1.49000000e+03, 1.51987500e+05],\n",
       "       ...,\n",
       "       [6.66022539e-01, 1.86111829e-05, 2.31580702e-06, ...,\n",
       "        5.23636636e-08, 1.49000000e+03, 1.51987500e+05],\n",
       "       [6.66022539e-01, 1.86111829e-05, 2.31580702e-06, ...,\n",
       "        5.23636636e-08, 1.49000000e+03, 1.51987500e+05],\n",
       "       [6.66022539e-01, 1.86111829e-05, 2.31580702e-06, ...,\n",
       "        5.23636636e-08, 1.49000000e+03, 1.51987500e+05]])"
      ]
     },
     "execution_count": 226,
     "metadata": {},
     "output_type": "execute_result"
    }
   ],
   "source": [
    "all_pred"
   ]
  },
  {
   "cell_type": "code",
   "execution_count": 227,
   "metadata": {},
   "outputs": [
    {
     "data": {
      "image/png": "[encoded data removed]",
      "text/plain": [
       "<matplotlib.figure.Figure at 0x7f428ee935c0>"
      ]
     },
     "metadata": {},
     "output_type": "display_data"
    }
   ],
   "source": [
    "plt.figure(figsize = (10,10))\n",
    "plt.plot(all_pred[:200,:8])\n",
    "plt.xlabel('Time (micros)')\n",
    "plt.ylabel('Temperature (K)')\n",
    "plt.legend(states.species_names)\n",
    "plt.show()"
   ]
  },
  {
   "cell_type": "code",
   "execution_count": null,
   "metadata": {},
   "outputs": [],
   "source": []
  }
 ],
 "metadata": {
  "kernelspec": {
   "display_name": "Python 3",
   "language": "python",
   "name": "python3"
  },
  "language_info": {
   "codemirror_mode": {
    "name": "ipython",
    "version": 3
   },
   "file_extension": ".py",
   "mimetype": "text/x-python",
   "name": "python",
   "nbconvert_exporter": "python",
   "pygments_lexer": "ipython3",
   "version": "3.5.2"
  }
 },
 "nbformat": 4,
 "nbformat_minor": 2
}
